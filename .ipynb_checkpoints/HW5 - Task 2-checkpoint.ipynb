{
 "cells": [
  {
   "cell_type": "code",
   "execution_count": 25,
   "metadata": {},
   "outputs": [
    {
     "ename": "ImportError",
     "evalue": "cannot import name 'kmeans' from 'kmeans' (C:\\Users\\Carlos\\python\\HW5\\kmeans.py)",
     "output_type": "error",
     "traceback": [
      "\u001b[1;31m---------------------------------------------------------------------------\u001b[0m",
      "\u001b[1;31mImportError\u001b[0m                               Traceback (most recent call last)",
      "\u001b[1;32m<ipython-input-25-ef5c213a7127>\u001b[0m in \u001b[0;36m<module>\u001b[1;34m\u001b[0m\n\u001b[0;32m      1\u001b[0m \u001b[1;32mimport\u001b[0m \u001b[0mpandas\u001b[0m \u001b[1;32mas\u001b[0m \u001b[0mpd\u001b[0m\u001b[1;33m\u001b[0m\u001b[1;33m\u001b[0m\u001b[0m\n\u001b[0;32m      2\u001b[0m \u001b[1;33m\u001b[0m\u001b[0m\n\u001b[1;32m----> 3\u001b[1;33m from kmeans import (kmeans, euclidean, manhattan, cosine_sim,\n\u001b[0m\u001b[0;32m      4\u001b[0m                     \u001b[0mjaccard\u001b[0m\u001b[1;33m,\u001b[0m \u001b[0msum_of_squares\u001b[0m\u001b[1;33m,\u001b[0m \u001b[0mloadCSV\u001b[0m\u001b[1;33m,\u001b[0m\u001b[1;33m\u001b[0m\u001b[1;33m\u001b[0m\u001b[0m\n\u001b[0;32m      5\u001b[0m                     showDataset2D, printTable)\n",
      "\u001b[1;31mImportError\u001b[0m: cannot import name 'kmeans' from 'kmeans' (C:\\Users\\Carlos\\python\\HW5\\kmeans.py)"
     ]
    }
   ],
   "source": [
    "import pandas as pd\n",
    "\n",
    "from kmeans import (kmeans, euclidean, manhattan, cosine_sim,\n",
    "                    jaccard, sum_of_squares, loadCSV, \n",
    "                    showDataset2D, printTable)"
   ]
  },
  {
   "cell_type": "code",
   "execution_count": null,
   "metadata": {},
   "outputs": [],
   "source": [
    "#Task 2\n",
    "data = loadCSV('./input/irisData.csv')\n",
    "target = loadCSV('./input/irisTarget.csv')"
   ]
  },
  {
   "cell_type": "code",
   "execution_count": 15,
   "metadata": {},
   "outputs": [],
   "source": [
    "def getKMeans(dataset, target, k, runTime, typeOfMetric, conditionToStop='centroids'):\n",
    "    sseArray = []\n",
    "    iterationArray = []\n",
    "    accuracyArray = []\n",
    "    \n",
    "    for _ in range(runTime):\n",
    "        result = kmeans(dataset, k, False, metric = typeOfMetric, stop_condition = conditionToStop)\n",
    "        \n",
    "        # Save result for SSE and Iterations\n",
    "        sseArray.append(result['withinss'])\n",
    "        iterationArray.append(result['iterations'])\n",
    "        \n",
    "        labelForClusters = {}\n",
    "        \n",
    "        # ci = cluster iteration, go through each cluster and label them\n",
    "        for ci, cluster in enumerate(result['clusters']):\n",
    "            countLabel = {}\n",
    "            totalLabel = None\n",
    "            totalLabelCount = 0\n",
    "            \n",
    "            # ii = instance iteration, go through each instance within a cluster\n",
    "            for ii, instance in enumerate(cluster):\n",
    "                \n",
    "                # get label and add counter to the amount of time it shows\n",
    "                label = target[int(instance[0])][1]\n",
    "                countLabel[label] = countLabel.get(label, 0) + 1\n",
    "                \n",
    "                # update variable count with the most common label\n",
    "                if countLabel[label] > totalLabelCount:\n",
    "                    totalLabelCount = countLabel[label]\n",
    "                    totalLabel = label\n",
    "                    \n",
    "            labelForClusters[ci] = totalLabel\n",
    "            \n",
    "        # get accuracy based on each cluster's label\n",
    "        correctAmount = 0\n",
    "        numberOfRuns = 0\n",
    "        \n",
    "        for ci, cluster in enumerate(result['clusters']):\n",
    "            for ii, instance in enumerate(cluster):\n",
    "                greaterThan = target[int(instance[0])][1]\n",
    "                \n",
    "                if greaterThan == labelForClusters[ci]:\n",
    "                    correctAmount += 1\n",
    "                numberOfRuns += 1\n",
    "                \n",
    "        # Calculate and save k-means iteration\n",
    "        accuracyArray.append(correctAmount/numberOfRuns)\n",
    "        \n",
    "    sseAverage = sum(sseArray)/runTime\n",
    "    iterationAverage = sum(iterationArray)/runTime\n",
    "    accucaryAverage = sum(accuracyArray)/runTime\n",
    "    \n",
    "    print('SSE: {0:.4}'.format(sseAverage))\n",
    "    print('Iterations: {0:.4}'.format(iterationAverage))\n",
    "    print('Accuracy: {0:.2}\\n'.format(accucaryAverage))"
   ]
  },
  {
   "cell_type": "code",
   "execution_count": 17,
   "metadata": {},
   "outputs": [
    {
     "ename": "TypeError",
     "evalue": "Population must be a sequence or set.  For dicts, use list(d).",
     "output_type": "error",
     "traceback": [
      "\u001b[1;31m---------------------------------------------------------------------------\u001b[0m",
      "\u001b[1;31mTypeError\u001b[0m                                 Traceback (most recent call last)",
      "\u001b[1;32m<ipython-input-17-2d4acc1c6a8c>\u001b[0m in \u001b[0;36m<module>\u001b[1;34m\u001b[0m\n\u001b[0;32m      1\u001b[0m \u001b[1;31m# running Euclidean\u001b[0m\u001b[1;33m\u001b[0m\u001b[1;33m\u001b[0m\u001b[1;33m\u001b[0m\u001b[0m\n\u001b[1;32m----> 2\u001b[1;33m \u001b[0mgetKMeans\u001b[0m\u001b[1;33m(\u001b[0m\u001b[0mdata\u001b[0m\u001b[1;33m,\u001b[0m \u001b[0mtarget\u001b[0m\u001b[1;33m,\u001b[0m \u001b[1;36m3\u001b[0m\u001b[1;33m,\u001b[0m \u001b[1;36m200\u001b[0m\u001b[1;33m,\u001b[0m \u001b[0meuclidean\u001b[0m\u001b[1;33m)\u001b[0m\u001b[1;33m\u001b[0m\u001b[1;33m\u001b[0m\u001b[0m\n\u001b[0m",
      "\u001b[1;32m<ipython-input-15-4a964b531c9e>\u001b[0m in \u001b[0;36mgetKMeans\u001b[1;34m(dataset, target, k, runTime, typeOfMetric, conditionToStop)\u001b[0m\n\u001b[0;32m      5\u001b[0m \u001b[1;33m\u001b[0m\u001b[0m\n\u001b[0;32m      6\u001b[0m     \u001b[1;32mfor\u001b[0m \u001b[0m_\u001b[0m \u001b[1;32min\u001b[0m \u001b[0mrange\u001b[0m\u001b[1;33m(\u001b[0m\u001b[0mrunTime\u001b[0m\u001b[1;33m)\u001b[0m\u001b[1;33m:\u001b[0m\u001b[1;33m\u001b[0m\u001b[1;33m\u001b[0m\u001b[0m\n\u001b[1;32m----> 7\u001b[1;33m         \u001b[0mresult\u001b[0m \u001b[1;33m=\u001b[0m \u001b[0mkmeans\u001b[0m\u001b[1;33m(\u001b[0m\u001b[0mdataset\u001b[0m\u001b[1;33m,\u001b[0m \u001b[0mk\u001b[0m\u001b[1;33m,\u001b[0m \u001b[1;32mFalse\u001b[0m\u001b[1;33m,\u001b[0m \u001b[0mmetric\u001b[0m \u001b[1;33m=\u001b[0m \u001b[0mtypeOfMetric\u001b[0m\u001b[1;33m,\u001b[0m \u001b[0mstop_condition\u001b[0m \u001b[1;33m=\u001b[0m \u001b[0mconditionToStop\u001b[0m\u001b[1;33m)\u001b[0m\u001b[1;33m\u001b[0m\u001b[1;33m\u001b[0m\u001b[0m\n\u001b[0m\u001b[0;32m      8\u001b[0m \u001b[1;33m\u001b[0m\u001b[0m\n\u001b[0;32m      9\u001b[0m         \u001b[1;31m# Save result for SSE and Iterations\u001b[0m\u001b[1;33m\u001b[0m\u001b[1;33m\u001b[0m\u001b[1;33m\u001b[0m\u001b[0m\n",
      "\u001b[1;32m~\\python\\HW5\\kmean.py\u001b[0m in \u001b[0;36mkmeans\u001b[1;34m(instances, k, animation, initCentroids, metric, stop_condition)\u001b[0m\n\u001b[0;32m     92\u001b[0m         \u001b[1;31m# randomly select k initial centroids\u001b[0m\u001b[1;33m\u001b[0m\u001b[1;33m\u001b[0m\u001b[1;33m\u001b[0m\u001b[0m\n\u001b[0;32m     93\u001b[0m         \u001b[0mrandom\u001b[0m\u001b[1;33m.\u001b[0m\u001b[0mseed\u001b[0m\u001b[1;33m(\u001b[0m\u001b[0mtime\u001b[0m\u001b[1;33m.\u001b[0m\u001b[0mtime\u001b[0m\u001b[1;33m(\u001b[0m\u001b[1;33m)\u001b[0m\u001b[1;33m)\u001b[0m\u001b[1;33m\u001b[0m\u001b[1;33m\u001b[0m\u001b[0m\n\u001b[1;32m---> 94\u001b[1;33m         \u001b[0mcentroids\u001b[0m \u001b[1;33m=\u001b[0m \u001b[0mrandom\u001b[0m\u001b[1;33m.\u001b[0m\u001b[0msample\u001b[0m\u001b[1;33m(\u001b[0m\u001b[0minstances\u001b[0m\u001b[1;33m,\u001b[0m \u001b[0mk\u001b[0m\u001b[1;33m)\u001b[0m\u001b[1;33m\u001b[0m\u001b[1;33m\u001b[0m\u001b[0m\n\u001b[0m\u001b[0;32m     95\u001b[0m     \u001b[1;32melse\u001b[0m\u001b[1;33m:\u001b[0m\u001b[1;33m\u001b[0m\u001b[1;33m\u001b[0m\u001b[0m\n\u001b[0;32m     96\u001b[0m         \u001b[0mcentroids\u001b[0m \u001b[1;33m=\u001b[0m \u001b[0minitCentroids\u001b[0m\u001b[1;33m\u001b[0m\u001b[1;33m\u001b[0m\u001b[0m\n",
      "\u001b[1;32m~\\anaconda3\\lib\\random.py\u001b[0m in \u001b[0;36msample\u001b[1;34m(self, population, k)\u001b[0m\n\u001b[0;32m    357\u001b[0m             \u001b[0mpopulation\u001b[0m \u001b[1;33m=\u001b[0m \u001b[0mtuple\u001b[0m\u001b[1;33m(\u001b[0m\u001b[0mpopulation\u001b[0m\u001b[1;33m)\u001b[0m\u001b[1;33m\u001b[0m\u001b[1;33m\u001b[0m\u001b[0m\n\u001b[0;32m    358\u001b[0m         \u001b[1;32mif\u001b[0m \u001b[1;32mnot\u001b[0m \u001b[0misinstance\u001b[0m\u001b[1;33m(\u001b[0m\u001b[0mpopulation\u001b[0m\u001b[1;33m,\u001b[0m \u001b[0m_Sequence\u001b[0m\u001b[1;33m)\u001b[0m\u001b[1;33m:\u001b[0m\u001b[1;33m\u001b[0m\u001b[1;33m\u001b[0m\u001b[0m\n\u001b[1;32m--> 359\u001b[1;33m             \u001b[1;32mraise\u001b[0m \u001b[0mTypeError\u001b[0m\u001b[1;33m(\u001b[0m\u001b[1;34m\"Population must be a sequence or set.  For dicts, use list(d).\"\u001b[0m\u001b[1;33m)\u001b[0m\u001b[1;33m\u001b[0m\u001b[1;33m\u001b[0m\u001b[0m\n\u001b[0m\u001b[0;32m    360\u001b[0m         \u001b[0mrandbelow\u001b[0m \u001b[1;33m=\u001b[0m \u001b[0mself\u001b[0m\u001b[1;33m.\u001b[0m\u001b[0m_randbelow\u001b[0m\u001b[1;33m\u001b[0m\u001b[1;33m\u001b[0m\u001b[0m\n\u001b[0;32m    361\u001b[0m         \u001b[0mn\u001b[0m \u001b[1;33m=\u001b[0m \u001b[0mlen\u001b[0m\u001b[1;33m(\u001b[0m\u001b[0mpopulation\u001b[0m\u001b[1;33m)\u001b[0m\u001b[1;33m\u001b[0m\u001b[1;33m\u001b[0m\u001b[0m\n",
      "\u001b[1;31mTypeError\u001b[0m: Population must be a sequence or set.  For dicts, use list(d)."
     ]
    }
   ],
   "source": [
    "# running Euclidean\n",
    "getKMeans(data, target, 3, 200, euclidean)"
   ]
  },
  {
   "cell_type": "code",
   "execution_count": null,
   "metadata": {},
   "outputs": [],
   "source": []
  }
 ],
 "metadata": {
  "kernelspec": {
   "display_name": "Python 3",
   "language": "python",
   "name": "python3"
  },
  "language_info": {
   "codemirror_mode": {
    "name": "ipython",
    "version": 3
   },
   "file_extension": ".py",
   "mimetype": "text/x-python",
   "name": "python",
   "nbconvert_exporter": "python",
   "pygments_lexer": "ipython3",
   "version": "3.8.3"
  }
 },
 "nbformat": 4,
 "nbformat_minor": 4
}
