{
 "cells": [
  {
   "cell_type": "code",
   "execution_count": 53,
   "metadata": {},
   "outputs": [],
   "source": [
    "import pandas as pd\n",
    "\n",
    "from kmean import (kmeans, euclidean, cosine_sim,\n",
    "                    jaccard, sum_of_squares)"
   ]
  },
  {
   "cell_type": "code",
   "execution_count": 54,
   "metadata": {},
   "outputs": [],
   "source": [
    "# function to get csv file\n",
    "def loadCSV(fileName):\n",
    "    fileHandler = open(fileName, \"rt\")\n",
    "    lines = fileHandler.readlines()\n",
    "    fileHandler.close()\n",
    "    del lines[0]\n",
    "    dataset = []\n",
    "    for line in lines:\n",
    "        instance = lineToTuple(line)\n",
    "        dataset.append(instance)\n",
    "    return dataset\n",
    "\n",
    "\n",
    "# converting function to tuples\n",
    "def lineToTuple(line):\n",
    "    cleanLine = line.strip()\n",
    "    cleanLine = cleanLine.replace('\"', '')\n",
    "    lineList = cleanLine.split(\",\")\n",
    "    stringsToNumbers(lineList)\n",
    "    lineTuple = tuple(lineList)\n",
    "    return lineTuple\n",
    "\n",
    "# Convert string to numbers\n",
    "def stringsToNumbers(myList):\n",
    "    for i in range(len(myList)):\n",
    "        if (isValidNumberString(myList[i])):\n",
    "            myList[i] = float(myList[i])\n",
    "\n",
    "# make sure string can be converted to number\n",
    "def isValidNumberString(s):\n",
    "  if len(s) == 0:\n",
    "    return False\n",
    "  if len(s) > 1 and s[0] == \"-\":\n",
    "      s = s[1:]\n",
    "  for c in s:\n",
    "    if c not in \"0123456789.\":\n",
    "      return False\n",
    "  return True"
   ]
  },
  {
   "cell_type": "code",
   "execution_count": 56,
   "metadata": {},
   "outputs": [],
   "source": [
    "#Task 2\n",
    "#load csv files\n",
    "data = loadCSV('./input/irisData.csv')\n",
    "target = loadCSV('./input/irisTarget.csv')"
   ]
  },
  {
   "cell_type": "code",
   "execution_count": 60,
   "metadata": {},
   "outputs": [],
   "source": [
    "def getKMeans(dataset, target, k, runTime, typeOfMetric, conditionToStop='centroids'):\n",
    "    sseArray = []\n",
    "    iterationArray = []\n",
    "    accuracyArray = []\n",
    "    \n",
    "    for _ in range(runTime):\n",
    "        result = kmeans(dataset, k, False, metric = typeOfMetric, stop_condition = conditionToStop)\n",
    "        \n",
    "        # Save result for SSE and Iterations\n",
    "        sseArray.append(result['withinss'])\n",
    "        iterationArray.append(result['iterations'])\n",
    "        \n",
    "        labelForClusters = {}\n",
    "        \n",
    "        # ci = cluster iteration, go through each cluster and label them\n",
    "        for ci, cluster in enumerate(result['clusters']):\n",
    "            countLabel = {}\n",
    "            totalLabel = None\n",
    "            totalLabelCount = 0\n",
    "            \n",
    "            # ii = instance iteration, go through each instance within a cluster\n",
    "            for ii, instance in enumerate(cluster):\n",
    "                \n",
    "                # get label and add counter to the amount of time it shows\n",
    "                label = target[int(instance[0])][1]\n",
    "                countLabel[label] = countLabel.get(label, 0) + 1\n",
    "                \n",
    "                # update variable count with the most common label\n",
    "                if countLabel[label] > totalLabelCount:\n",
    "                    totalLabelCount = countLabel[label]\n",
    "                    totalLabel = label\n",
    "                    \n",
    "            labelForClusters[ci] = totalLabel\n",
    "            \n",
    "        # get accuracy based on each cluster's label\n",
    "        correctAmount = 0\n",
    "        numberOfRuns = 0\n",
    "        \n",
    "        for ci, cluster in enumerate(result['clusters']):\n",
    "            for ii, instance in enumerate(cluster):\n",
    "                greaterThan = target[int(instance[0])][1]\n",
    "                \n",
    "                if greaterThan == labelForClusters[ci]:\n",
    "                    correctAmount += 1\n",
    "                numberOfRuns += 1\n",
    "                \n",
    "        # Calculate and save k-means iteration\n",
    "        accuracyArray.append(correctAmount/numberOfRuns)\n",
    "        \n",
    "    sseAverage = sum(sseArray)/runTime\n",
    "    iterationAverage = sum(iterationArray)/runTime\n",
    "    accucaryAverage = sum(accuracyArray)/runTime\n",
    "    \n",
    "    print('   SSE: {0:.4}'.format(sseAverage))\n",
    "    print('   Iterations: {0:.4}'.format(iterationAverage))\n",
    "    print('   Accuracy: {0:.2}\\n'.format(accucaryAverage))"
   ]
  },
  {
   "cell_type": "code",
   "execution_count": 61,
   "metadata": {},
   "outputs": [
    {
     "name": "stdout",
     "output_type": "stream",
     "text": [
      "Eucledian results:\n",
      "   SSE: 91.48\n",
      "   Iterations: 7.245\n",
      "   Accuracy: 0.85\n",
      "\n"
     ]
    }
   ],
   "source": [
    "print('Eucledian results:')\n",
    "getKMeans(data, target, 3, 200, euclidean)"
   ]
  },
  {
   "cell_type": "code",
   "execution_count": 63,
   "metadata": {},
   "outputs": [
    {
     "name": "stdout",
     "output_type": "stream",
     "text": [
      "Cosine results:\n",
      "   SSE: 104.6\n",
      "   Iterations: 5.34\n",
      "   Accuracy: 0.91\n",
      "\n"
     ]
    }
   ],
   "source": [
    "print('Cosine results:')\n",
    "getKMeans(data, target, 3, 200, cosine_sim)"
   ]
  },
  {
   "cell_type": "code",
   "execution_count": 64,
   "metadata": {},
   "outputs": [
    {
     "name": "stdout",
     "output_type": "stream",
     "text": [
      "Jaccard results:\n",
      "   SSE: 96.45\n",
      "   Iterations: 5.74\n",
      "   Accuracy: 0.83\n",
      "\n"
     ]
    }
   ],
   "source": [
    "print('Jaccard results:')\n",
    "getKMeans(data, target, 3, 200, jaccard)"
   ]
  },
  {
   "cell_type": "markdown",
   "metadata": {},
   "source": [
    "### Q1, when comparing all the distance computation functions through SSE. \n",
    "we can determine that cosine is the best one of them due to the high SSE\n",
    "\n",
    "### Q2, comparing accuracy of each computational function.\n",
    "we can clearly see that the most accurate one is cosine with 91% versus \n",
    "85% of eucledian and 83% jaccard\n",
    "\n",
    "### Q3, which k-means required more iterations and times\n",
    "the one that required the most iterations is euclidian with an average of 7.245 iterations"
   ]
  },
  {
   "cell_type": "markdown",
   "metadata": {},
   "source": [
    "### Q4 - Compare SSE of each Kmeans\n",
    "* when there is no change in centroid position\n",
    "* when the SSE value increases in the next iteration\n",
    "* when the maximum preset value (100) of iteration is complete"
   ]
  },
  {
   "cell_type": "code",
   "execution_count": 67,
   "metadata": {},
   "outputs": [
    {
     "name": "stdout",
     "output_type": "stream",
     "text": [
      "Euclidean\n",
      "centroid result:\n",
      "   SSE: 89.16\n",
      "   Iterations: 7.4\n",
      "   Accuracy: 0.85\n",
      "\n",
      "SSE result:\n",
      "   SSE: 174.7\n",
      "   Iterations: 1.0\n",
      "   Accuracy: 0.73\n",
      "\n",
      "Max Iteration result:\n",
      "   SSE: 90.09\n",
      "   Iterations: 100.0\n",
      "   Accuracy: 0.85\n",
      "\n"
     ]
    }
   ],
   "source": [
    "print('Euclidean')\n",
    "print('centroid result:')\n",
    "getKMeans(data, target, 3, 200, euclidean, 'centroids')\n",
    "\n",
    "print('SSE result:')\n",
    "getKMeans(data, target, 3, 200, euclidean, 'SSE')\n",
    "\n",
    "print('Max Iteration result:')\n",
    "getKMeans(data, target, 3, 200, euclidean, 'max_iteration')"
   ]
  },
  {
   "cell_type": "code",
   "execution_count": 68,
   "metadata": {},
   "outputs": [
    {
     "name": "stdout",
     "output_type": "stream",
     "text": [
      "Cosine\n",
      "centroid result:\n",
      "   SSE: 110.3\n",
      "   Iterations: 5.405\n",
      "   Accuracy: 0.88\n",
      "\n",
      "SSE result:\n",
      "   SSE: 190.8\n",
      "   Iterations: 1.0\n",
      "   Accuracy: 0.76\n",
      "\n",
      "Max Iteration result:\n",
      "   SSE: 104.8\n",
      "   Iterations: 100.0\n",
      "   Accuracy: 0.91\n",
      "\n"
     ]
    }
   ],
   "source": [
    "print('Cosine')\n",
    "print('centroid result:')\n",
    "getKMeans(data, target, 3, 200, cosine_sim, 'centroids')\n",
    "\n",
    "print('SSE result:')\n",
    "getKMeans(data, target, 3, 200, cosine_sim, 'SSE')\n",
    "\n",
    "print('Max Iteration result:')\n",
    "getKMeans(data, target, 3, 200, cosine_sim, 'max_iteration')"
   ]
  },
  {
   "cell_type": "code",
   "execution_count": 69,
   "metadata": {},
   "outputs": [
    {
     "name": "stdout",
     "output_type": "stream",
     "text": [
      "Jaccard\n",
      "centroid result:\n",
      "   SSE: 97.39\n",
      "   Iterations: 5.64\n",
      "   Accuracy: 0.83\n",
      "\n",
      "SSE result:\n",
      "   SSE: 174.1\n",
      "   Iterations: 1.0\n",
      "   Accuracy: 0.74\n",
      "\n",
      "Max Iteration result:\n",
      "   SSE: 94.07\n",
      "   Iterations: 100.0\n",
      "   Accuracy: 0.84\n",
      "\n"
     ]
    }
   ],
   "source": [
    "print('Jaccard')\n",
    "print('centroid result:')\n",
    "getKMeans(data, target, 3, 200, jaccard, 'centroids')\n",
    "\n",
    "print('SSE result:')\n",
    "getKMeans(data, target, 3, 200, jaccard, 'SSE')\n",
    "\n",
    "print('Max Iteration result:')\n",
    "getKMeans(data, target, 3, 200, jaccard, 'max_iteration')"
   ]
  },
  {
   "cell_type": "markdown",
   "metadata": {},
   "source": [
    "#### Which method requires more time or more iterations?\n",
    "We can see that Euclidean k-means requires more iterations when there is no change in centroid position"
   ]
  },
  {
   "cell_type": "code",
   "execution_count": null,
   "metadata": {},
   "outputs": [],
   "source": []
  }
 ],
 "metadata": {
  "kernelspec": {
   "display_name": "Python 3",
   "language": "python",
   "name": "python3"
  },
  "language_info": {
   "codemirror_mode": {
    "name": "ipython",
    "version": 3
   },
   "file_extension": ".py",
   "mimetype": "text/x-python",
   "name": "python",
   "nbconvert_exporter": "python",
   "pygments_lexer": "ipython3",
   "version": "3.8.3"
  }
 },
 "nbformat": 4,
 "nbformat_minor": 4
}
